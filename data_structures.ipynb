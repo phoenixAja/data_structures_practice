{
 "cells": [
  {
   "cell_type": "code",
   "execution_count": 1,
   "metadata": {
    "collapsed": true
   },
   "outputs": [],
   "source": [
    "\n",
    "class EmptyItemsError(Exception):\n",
    "    \"\"\"\n",
    "    Raised when items is empty\n",
    "\tused for peek() and get() variations\n",
    "    \"\"\"\n",
    "\n",
    "class WrongTypeException(Exception):\n",
    "\t\"\"\"\n",
    "\tRaised when wrong type is encountered for data\n",
    "\tstructure implementation\n",
    "\t\"\"\"\n",
    "\n",
    "\n",
    "class MethodNotAvailable(Exception):\n",
    "\t\"\"\"\n",
    "\tRaised when user tries to use method that is \n",
    "\tnot available to current structure\n",
    "\t\"\"\"\n",
    "\n",
    "\n",
    "class ItemNotInList(Exception):\n",
    "\t\"\"\"\n",
    "\tRaised when user tries to retrieve item that doesn't exist (for list)\n",
    "\t\"\"\"\t\t"
   ]
  },
  {
   "cell_type": "code",
   "execution_count": 2,
   "metadata": {},
   "outputs": [
    {
     "ename": "IndentationError",
     "evalue": "expected an indented block (<ipython-input-2-1f0020538b3a>, line 36)",
     "output_type": "error",
     "traceback": [
      "\u001b[0;36m  File \u001b[0;32m\"<ipython-input-2-1f0020538b3a>\"\u001b[0;36m, line \u001b[0;32m36\u001b[0m\n\u001b[0;31m    def revstring(str):\u001b[0m\n\u001b[0m                       ^\u001b[0m\n\u001b[0;31mIndentationError\u001b[0m\u001b[0;31m:\u001b[0m expected an indented block\n"
     ]
    }
   ],
   "source": [
    "\n",
    "# coding: utf-8\n",
    "\n",
    "# In[1]:\n",
    "\n",
    "#from test import testEqual\n",
    "#from pythonds.basic.stack import Stack, Queue\n",
    "import unittest\n",
    "\n",
    "# implement a stack in python\n",
    "class Stack:\n",
    "    \n",
    "    def __init__(self):\n",
    "        self.stack = []\n",
    "        \n",
    "    def isEmpty(self):\n",
    "        if len(self.stack) == 0:\n",
    "            return True\n",
    "        else:\n",
    "            return False\n",
    "    \n",
    "    def get_length(self):\n",
    "        length = len(self.stack)\n",
    "        return length\n",
    "        \n",
    "    def push(self, val):\n",
    "        self.stack.append(val)\n",
    "        \n",
    "    def pop(self, val):\n",
    "        last_val = self.stack.pop()\n",
    "        return last_val\n",
    "\n",
    "    def peek(self):\n",
    "        \n",
    "\n",
    "def revstring(str):\n",
    "    # without stack\n",
    "    str_lst = list(str)\n",
    "    new_str = ''\n",
    "    \n",
    "    while len(str_lst) > 0:\n",
    "        new_str += str_lst.pop()\n",
    "        \n",
    "    return new_str\n",
    "    \n",
    "def revstringstack(str):\n",
    "    # with stack implemented\n",
    "    stack = Stack()\n",
    "    \n",
    "    for char in str:\n",
    "        stack.push(char)\n",
    "        \n",
    "    new_str = ''\n",
    "    \n",
    "    while not stack.isEmpty():\n",
    "        new_str += stack.pop()\n",
    "        \n",
    "    return new_str    \n",
    "\n",
    "\n",
    "def balanced_parentheses(paren_str):\n",
    "    # problem involving applications of stack\n",
    "    \n",
    "    opening = Stack()\n",
    "    \n",
    "    for i in paren_str:\n",
    "        if i in (\"(\", \"{\", \"[\"):\n",
    "            opening.push(i)\n",
    "        \n",
    "        else:\n",
    "            if not opening.isEmpty():\n",
    "                if   i == \")\" and opening.peek() == \"(\":\n",
    "                    opening.pop()\n",
    "                elif i == \"}\" and opening.peek() == \"{\":\n",
    "                    opening.pop()\n",
    "                elif i == \"]\" and opening.peek() == \"[\":\n",
    "                    opening.pop()\n",
    "                else:\n",
    "                    return False\n",
    "                \n",
    "            else:\n",
    "                return False\n",
    "\n",
    "    return True        \n",
    "            \n",
    "\n",
    "\n",
    "# In[19]:\n",
    "\n",
    "balanced_parentheses('[([])]]{}]{]}')\n",
    "\n",
    "\n",
    "# In[12]:\n",
    "\n",
    "s = Stack()\n",
    "s.push(2)\n",
    "s.push(3)\n",
    "s.peek()\n",
    "\n",
    "\n",
    "# In[50]:\n",
    "\n",
    "class Queue_pal:\n",
    "    \n",
    "    def __init__(self):\n",
    "        self.items = []\n",
    "        \n",
    "    def add(self, val):\n",
    "        self.items.insert(0, val)\n",
    "    \n",
    "    def get(self):\n",
    "        return self.items.pop()\n",
    "    \n",
    "    def isEmpty(self):\n",
    "        return self.items == []\n",
    "    \n",
    "    def get_length(self):\n",
    "        return len(self.items)\n",
    "    \n",
    "\n",
    "def hot_potato(names_lst, num):\n",
    "    # returns the last person surviving in the queue\n",
    "    \n",
    "    names = Queue_pal()\n",
    "    \n",
    "    for i in names_lst:\n",
    "        # add the names to the queue\n",
    "        names.add(i)\n",
    "    \n",
    "    turns = 1\n",
    "    while names.get_length() > 1:\n",
    "        \n",
    "        if turns < num:\n",
    "            # get and return items to queue\n",
    "            potato = names.get()\n",
    "            names.add(potato)\n",
    "            turns += 1\n",
    "            \n",
    "        else:\n",
    "            # when turns == num remove item\n",
    "            print(\"safe\", names.get())\n",
    "            turns = 1\n",
    "    \n",
    "    # get the survivor off of the queue\n",
    "    return names.get()\n",
    "        \n",
    "    \n",
    "    \n",
    "    \n",
    "    \n",
    "\n",
    "\n",
    "# In[51]:\n",
    "\n",
    "names = ['bryan', 'louis', 'cynthia', 'randall', 'joshua', 'heidi']\n",
    "hot_potato(names, 4)\n",
    "\n",
    "\n",
    "# In[ ]:\n",
    "\n",
    "\n",
    "\n"
   ]
  },
  {
   "cell_type": "code",
   "execution_count": 3,
   "metadata": {},
   "outputs": [
    {
     "name": "stdout",
     "output_type": "stream",
     "text": [
      "3\n"
     ]
    }
   ],
   "source": [
    "t = [1,3,4,5]\n",
    "\n",
    "for idx, val in enumerate(t):\n",
    "    if val == 5:\n",
    "        print(idx)\n",
    "    "
   ]
  },
  {
   "cell_type": "code",
   "execution_count": 4,
   "metadata": {
    "collapsed": true
   },
   "outputs": [],
   "source": [
    "class Node:\n",
    "    # used to create parts of linked list\n",
    "    def __init__(self, data):\n",
    "        self.data = data\n",
    "        self.next = None\n",
    "\n",
    "    def get_data(self):\n",
    "        return self.data\n",
    "\n",
    "    def get_next(self):\n",
    "        return self.next\n",
    "\n",
    "    def set_data(self, new_data):\n",
    "        self.data = new_data\n",
    "\n",
    "    def set_next(self, new_next_data):\n",
    "        self.next = new_next_data   "
   ]
  },
  {
   "cell_type": "code",
   "execution_count": 35,
   "metadata": {},
   "outputs": [],
   "source": [
    "class List:\n",
    "\n",
    "    def __init__(self):\n",
    "        # store nodes in list\n",
    "        self.head = None\n",
    "    \n",
    "    def check_items(self):\n",
    "        if self.head == None:\n",
    "            raise EmptyItemsError(\"No Items in {struct}\".format(struct=self.__class__.__name__))   \n",
    "        else:\n",
    "            pass\n",
    "        \n",
    "    def add(self, val):\n",
    "        # assume the item is not in the list?\n",
    "        new = Node(val)\n",
    "        new.set_next(self.head)\n",
    "        self.head = new    \n",
    "\n",
    "    def size(self):\n",
    "        \"\"\"returns the size of the list\"\"\"\n",
    "        size = 0\n",
    "        initial = self.head\n",
    "        while initial != None:\n",
    "            size += 1\n",
    "            print(initial.get_data())\n",
    "            initial = initial.get_next()\n",
    "            \n",
    "        return size\n",
    "    \n",
    "    def search(self, val):\n",
    "        \"\"\"returns boolean if value is in the list\"\"\"\n",
    "        self.check_items()\n",
    "        initial = self.head\n",
    "        while initial != None:\n",
    "            if initial.get_data() == val:\n",
    "                return True\n",
    "            else:\n",
    "                initial = initial.get_next()\n",
    "                \n",
    "        return False\n",
    "        \n",
    "#     def index(self, val):\n",
    "#         # returns first occurance of val\n",
    "#         check_items() # check if items is empty\n",
    "#         idx = 0\n",
    "#         node = self.head\n",
    "#         while node.get_next() != None:\n",
    "#             if val == node.get_data():\n",
    "#                 return idx\n",
    "#             else:\n",
    "#                 node = node.get_next()\n",
    "#                 idx += 1    \n",
    "\n",
    "#         raise ItemNotInList(\"value is not in {struct}\".format(struct=self.__class__.__name__))\n",
    "\n",
    "#     def insert(self, pos, val):\n",
    "#         check_items()\n",
    "#         node = self.head()\n",
    "#         idx = 0\n",
    "#         for i in range(pos):\n",
    "#             node = node.get_next()\n",
    "\n",
    "\n",
    "#     def get_from_index(idx):\n",
    "#         check_items()\n",
    "#         if idx <= len(self.items):\n",
    "#             return self.items[idx]\n",
    "#         raise ItemNotInList(\"idx not in {struct}\".format(struct=self.__class__.__name__))        \n",
    "        \n",
    "\n",
    "        \n",
    "#     def get(self):\n",
    "#         self.check_items()\n",
    "#         last_val = self.items.pop()\n",
    "#         return last_val\n",
    "\n",
    "#     def peek(self):\n",
    "#         raise MethodNotAvailable"
   ]
  },
  {
   "cell_type": "code",
   "execution_count": 36,
   "metadata": {},
   "outputs": [
    {
     "name": "stdout",
     "output_type": "stream",
     "text": [
      "2\n",
      "4\n",
      "3\n",
      "4\n"
     ]
    },
    {
     "data": {
      "text/plain": [
       "4"
      ]
     },
     "execution_count": 36,
     "metadata": {},
     "output_type": "execute_result"
    }
   ],
   "source": [
    "l = List()\n",
    "l.add(4)\n",
    "l.add(3)\n",
    "l.add(4)\n",
    "l.add(2)\n",
    "l.size()"
   ]
  },
  {
   "cell_type": "code",
   "execution_count": 37,
   "metadata": {},
   "outputs": [
    {
     "name": "stdout",
     "output_type": "stream",
     "text": [
      "2\n",
      "not equal  4\n",
      "4\n",
      "not equal  3\n",
      "3\n"
     ]
    },
    {
     "data": {
      "text/plain": [
       "True"
      ]
     },
     "execution_count": 37,
     "metadata": {},
     "output_type": "execute_result"
    }
   ],
   "source": [
    "l.search(3)"
   ]
  },
  {
   "cell_type": "code",
   "execution_count": 83,
   "metadata": {
    "collapsed": true
   },
   "outputs": [],
   "source": [
    "# first set next to old head\n",
    "# then set data equal to new data\n",
    "node2 = Node(4)\n",
    "node2.set_next(node)\n",
    "\n",
    "node3 = Node(5)\n",
    "node3.set_next(node2)"
   ]
  },
  {
   "cell_type": "code",
   "execution_count": 46,
   "metadata": {
    "collapsed": true
   },
   "outputs": [],
   "source": [
    "# add another value to the node\n",
    "node.set_next(node.get_data())\n",
    "node.set_data(2)"
   ]
  },
  {
   "cell_type": "code",
   "execution_count": 82,
   "metadata": {},
   "outputs": [
    {
     "data": {
      "text/plain": [
       "1"
      ]
     },
     "execution_count": 82,
     "metadata": {},
     "output_type": "execute_result"
    }
   ],
   "source": []
  },
  {
   "cell_type": "code",
   "execution_count": 60,
   "metadata": {},
   "outputs": [
    {
     "data": {
      "text/plain": [
       "3"
      ]
     },
     "execution_count": 60,
     "metadata": {},
     "output_type": "execute_result"
    }
   ],
   "source": [
    "node.get_next()"
   ]
  },
  {
   "cell_type": "code",
   "execution_count": 61,
   "metadata": {
    "collapsed": true
   },
   "outputs": [],
   "source": [
    "head = Node(1)"
   ]
  },
  {
   "cell_type": "code",
   "execution_count": null,
   "metadata": {
    "collapsed": true
   },
   "outputs": [],
   "source": [
    "head"
   ]
  }
 ],
 "metadata": {
  "kernelspec": {
   "display_name": "Python 3",
   "language": "python",
   "name": "python3"
  },
  "language_info": {
   "codemirror_mode": {
    "name": "ipython",
    "version": 3
   },
   "file_extension": ".py",
   "mimetype": "text/x-python",
   "name": "python",
   "nbconvert_exporter": "python",
   "pygments_lexer": "ipython3",
   "version": "3.6.1"
  }
 },
 "nbformat": 4,
 "nbformat_minor": 2
}
