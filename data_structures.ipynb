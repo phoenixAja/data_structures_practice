{
 "cells": [
  {
   "cell_type": "code",
   "execution_count": 94,
   "metadata": {
    "collapsed": true
   },
   "outputs": [],
   "source": [
    "\n",
    "class EmptyItemsError(Exception):\n",
    "    \"\"\"\n",
    "    Raised when items is empty\n",
    "\tused for peek() and get() variations\n",
    "    \"\"\"\n",
    "\n",
    "class WrongTypeException(Exception):\n",
    "\t\"\"\"\n",
    "\tRaised when wrong type is encountered for data\n",
    "\tstructure implementation\n",
    "\t\"\"\"\n",
    "\n",
    "\n",
    "class MethodNotAvailable(Exception):\n",
    "\t\"\"\"\n",
    "\tRaised when user tries to use method that is \n",
    "\tnot available to current structure\n",
    "\t\"\"\"\n",
    "\n",
    "\n",
    "class ItemNotInList(Exception):\n",
    "\t\"\"\"\n",
    "\tRaised when user tries to retrieve item that doesn't exist (for list)\n",
    "\t\"\"\"\t\t"
   ]
  },
  {
   "cell_type": "code",
   "execution_count": 3,
   "metadata": {},
   "outputs": [
    {
     "ename": "AttributeError",
     "evalue": "'Stack' object has no attribute 'peek'",
     "output_type": "error",
     "traceback": [
      "\u001b[0;31m---------------------------------------------------------------------------\u001b[0m",
      "\u001b[0;31mAttributeError\u001b[0m                            Traceback (most recent call last)",
      "\u001b[0;32m<ipython-input-3-338e9264d197>\u001b[0m in \u001b[0;36m<module>\u001b[0;34m()\u001b[0m\n\u001b[1;32m     89\u001b[0m \u001b[0;31m# In[19]:\u001b[0m\u001b[0;34m\u001b[0m\u001b[0;34m\u001b[0m\u001b[0m\n\u001b[1;32m     90\u001b[0m \u001b[0;34m\u001b[0m\u001b[0m\n\u001b[0;32m---> 91\u001b[0;31m \u001b[0mbalanced_parentheses\u001b[0m\u001b[0;34m(\u001b[0m\u001b[0;34m'[([])]]{}]{]}'\u001b[0m\u001b[0;34m)\u001b[0m\u001b[0;34m\u001b[0m\u001b[0m\n\u001b[0m\u001b[1;32m     92\u001b[0m \u001b[0;34m\u001b[0m\u001b[0m\n\u001b[1;32m     93\u001b[0m \u001b[0;34m\u001b[0m\u001b[0m\n",
      "\u001b[0;32m<ipython-input-3-338e9264d197>\u001b[0m in \u001b[0;36mbalanced_parentheses\u001b[0;34m(paren_str)\u001b[0m\n\u001b[1;32m     75\u001b[0m                 \u001b[0;32melif\u001b[0m \u001b[0mi\u001b[0m \u001b[0;34m==\u001b[0m \u001b[0;34m\"}\"\u001b[0m \u001b[0;32mand\u001b[0m \u001b[0mopening\u001b[0m\u001b[0;34m.\u001b[0m\u001b[0mpeek\u001b[0m\u001b[0;34m(\u001b[0m\u001b[0;34m)\u001b[0m \u001b[0;34m==\u001b[0m \u001b[0;34m\"{\"\u001b[0m\u001b[0;34m:\u001b[0m\u001b[0;34m\u001b[0m\u001b[0m\n\u001b[1;32m     76\u001b[0m                     \u001b[0mopening\u001b[0m\u001b[0;34m.\u001b[0m\u001b[0mpop\u001b[0m\u001b[0;34m(\u001b[0m\u001b[0;34m)\u001b[0m\u001b[0;34m\u001b[0m\u001b[0m\n\u001b[0;32m---> 77\u001b[0;31m                 \u001b[0;32melif\u001b[0m \u001b[0mi\u001b[0m \u001b[0;34m==\u001b[0m \u001b[0;34m\"]\"\u001b[0m \u001b[0;32mand\u001b[0m \u001b[0mopening\u001b[0m\u001b[0;34m.\u001b[0m\u001b[0mpeek\u001b[0m\u001b[0;34m(\u001b[0m\u001b[0;34m)\u001b[0m \u001b[0;34m==\u001b[0m \u001b[0;34m\"[\"\u001b[0m\u001b[0;34m:\u001b[0m\u001b[0;34m\u001b[0m\u001b[0m\n\u001b[0m\u001b[1;32m     78\u001b[0m                     \u001b[0mopening\u001b[0m\u001b[0;34m.\u001b[0m\u001b[0mpop\u001b[0m\u001b[0;34m(\u001b[0m\u001b[0;34m)\u001b[0m\u001b[0;34m\u001b[0m\u001b[0m\n\u001b[1;32m     79\u001b[0m                 \u001b[0;32melse\u001b[0m\u001b[0;34m:\u001b[0m\u001b[0;34m\u001b[0m\u001b[0m\n",
      "\u001b[0;31mAttributeError\u001b[0m: 'Stack' object has no attribute 'peek'"
     ]
    }
   ],
   "source": [
    "\n",
    "# coding: utf-8\n",
    "\n",
    "# In[1]:\n",
    "\n",
    "#from test import testEqual\n",
    "#from pythonds.basic.stack import Stack, Queue\n",
    "import unittest\n",
    "\n",
    "# implement a stack in python\n",
    "class Stack:\n",
    "    \n",
    "    def __init__(self):\n",
    "        self.stack = []\n",
    "        \n",
    "    def isEmpty(self):\n",
    "        if len(self.stack) == 0:\n",
    "            return True\n",
    "        else:\n",
    "            return False\n",
    "    \n",
    "    def get_length(self):\n",
    "        length = len(self.stack)\n",
    "        return length\n",
    "        \n",
    "    def push(self, val):\n",
    "        self.stack.append(val)\n",
    "        \n",
    "    def pop(self, val):\n",
    "        last_val = self.stack.pop()\n",
    "        return last_val\n",
    "\n",
    "    def peek(self):\n",
    "        \n",
    "\n",
    "def revstring(str):\n",
    "    # without stack\n",
    "    str_lst = list(str)\n",
    "    new_str = ''\n",
    "    \n",
    "    while len(str_lst) > 0:\n",
    "        new_str += str_lst.pop()\n",
    "        \n",
    "    return new_str\n",
    "    \n",
    "def revstringstack(str):\n",
    "    # with stack implemented\n",
    "    stack = Stack()\n",
    "    \n",
    "    for char in str:\n",
    "        stack.push(char)\n",
    "        \n",
    "    new_str = ''\n",
    "    \n",
    "    while not stack.isEmpty():\n",
    "        new_str += stack.pop()\n",
    "        \n",
    "    return new_str    \n",
    "\n",
    "\n",
    "def balanced_parentheses(paren_str):\n",
    "    # problem involving applications of stack\n",
    "    \n",
    "    opening = Stack()\n",
    "    \n",
    "    for i in paren_str:\n",
    "        if i in (\"(\", \"{\", \"[\"):\n",
    "            opening.push(i)\n",
    "        \n",
    "        else:\n",
    "            if not opening.isEmpty():\n",
    "                if   i == \")\" and opening.peek() == \"(\":\n",
    "                    opening.pop()\n",
    "                elif i == \"}\" and opening.peek() == \"{\":\n",
    "                    opening.pop()\n",
    "                elif i == \"]\" and opening.peek() == \"[\":\n",
    "                    opening.pop()\n",
    "                else:\n",
    "                    return False\n",
    "                \n",
    "            else:\n",
    "                return False\n",
    "\n",
    "    return True        \n",
    "            \n",
    "\n",
    "\n",
    "# In[19]:\n",
    "\n",
    "balanced_parentheses('[([])]]{}]{]}')\n",
    "\n",
    "\n",
    "# In[12]:\n",
    "\n",
    "s = Stack()\n",
    "s.push(2)\n",
    "s.push(3)\n",
    "s.peek()\n",
    "\n",
    "\n",
    "# In[50]:\n",
    "\n",
    "class Queue_pal:\n",
    "    \n",
    "    def __init__(self):\n",
    "        self.items = []\n",
    "        \n",
    "    def add(self, val):\n",
    "        self.items.insert(0, val)\n",
    "    \n",
    "    def get(self):\n",
    "        return self.items.pop()\n",
    "    \n",
    "    def isEmpty(self):\n",
    "        return self.items == []\n",
    "    \n",
    "    def get_length(self):\n",
    "        return len(self.items)\n",
    "    \n",
    "\n",
    "def hot_potato(names_lst, num):\n",
    "    # returns the last person surviving in the queue\n",
    "    \n",
    "    names = Queue_pal()\n",
    "    \n",
    "    for i in names_lst:\n",
    "        # add the names to the queue\n",
    "        names.add(i)\n",
    "    \n",
    "    turns = 1\n",
    "    while names.get_length() > 1:\n",
    "        \n",
    "        if turns < num:\n",
    "            # get and return items to queue\n",
    "            potato = names.get()\n",
    "            names.add(potato)\n",
    "            turns += 1\n",
    "            \n",
    "        else:\n",
    "            # when turns == num remove item\n",
    "            print(\"safe\", names.get())\n",
    "            turns = 1\n",
    "    \n",
    "    # get the survivor off of the queue\n",
    "    return names.get()\n",
    "        \n",
    "    \n",
    "    \n",
    "    \n",
    "    \n",
    "\n",
    "\n",
    "# In[51]:\n",
    "\n",
    "names = ['bryan', 'louis', 'cynthia', 'randall', 'joshua', 'heidi']\n",
    "hot_potato(names, 4)\n",
    "\n",
    "\n",
    "# In[ ]:\n",
    "\n",
    "\n",
    "\n"
   ]
  },
  {
   "cell_type": "code",
   "execution_count": 7,
   "metadata": {},
   "outputs": [
    {
     "name": "stdout",
     "output_type": "stream",
     "text": [
      "3\n"
     ]
    }
   ],
   "source": [
    "t = [1,3,4,5]\n",
    "\n",
    "for idx, val in enumerate(t):\n",
    "    if val == 5:\n",
    "        print(idx)\n",
    "    "
   ]
  },
  {
   "cell_type": "code",
   "execution_count": 67,
   "metadata": {
    "collapsed": true
   },
   "outputs": [],
   "source": [
    "class Node:\n",
    "    # used to create parts of linked list\n",
    "    def __init__(self, data):\n",
    "        self.data = data\n",
    "        self.next = None\n",
    "\n",
    "    def get_data(self):\n",
    "        return self.data\n",
    "\n",
    "    def get_next(self):\n",
    "        return self.next\n",
    "\n",
    "    def set_data(self, new_data):\n",
    "        self.data = new_data\n",
    "\n",
    "    def set_next(self, new_next_data):\n",
    "        self.next = new_next_data   "
   ]
  },
  {
   "cell_type": "code",
   "execution_count": 101,
   "metadata": {
    "collapsed": true
   },
   "outputs": [],
   "source": [
    "class List:\n",
    "\n",
    "    def __init__(self):\n",
    "        # store nodes in list\n",
    "        self.head = None\n",
    "    \n",
    "    def check_items(self):\n",
    "        if self.head == None:\n",
    "            raise EmptyItemsError(\"No Items in {struct}\".format(struct=self.__class__.__name__))   \n",
    "        else:\n",
    "            pass\n",
    "        \n",
    "    def add(self, val):\n",
    "        # assume the item is not in the list?\n",
    "        new = Node(val)\n",
    "        new.set_next(self.head)\n",
    "        self.head = new    \n",
    "\n",
    "    def size(self):\n",
    "        \"\"\"returns the size of the list\"\"\"\n",
    "        size = 0\n",
    "        initial = self.head\n",
    "        while initial != None:\n",
    "            size += 1\n",
    "            initial = initial.get_next()\n",
    "            \n",
    "        return size\n",
    "    \n",
    "    def search(self, val):\n",
    "        self.check_items()\n",
    "        idx = 0\n",
    "        initial = self.head\n",
    "        while initial != None:\n",
    "            if initial.get_data() == val:\n",
    "                return idx\n",
    "            else:\n",
    "                idx += 1\n",
    "                intitial = initial.get_next()\n",
    "                \n",
    "        raise ItemNotInList\n",
    "        \n",
    "#     def index(self, val):\n",
    "#         # returns first occurance of val\n",
    "#         check_items() # check if items is empty\n",
    "#         idx = 0\n",
    "#         node = self.head\n",
    "#         while node.get_next() != None:\n",
    "#             if val == node.get_data():\n",
    "#                 return idx\n",
    "#             else:\n",
    "#                 node = node.get_next()\n",
    "#                 idx += 1    \n",
    "\n",
    "#         raise ItemNotInList(\"value is not in {struct}\".format(struct=self.__class__.__name__))\n",
    "\n",
    "#     def insert(self, pos, val):\n",
    "#         check_items()\n",
    "#         node = self.head()\n",
    "#         idx = 0\n",
    "#         for i in range(pos):\n",
    "#             node = node.get_next()\n",
    "\n",
    "\n",
    "#     def get_from_index(idx):\n",
    "#         check_items()\n",
    "#         if idx <= len(self.items):\n",
    "#             return self.items[idx]\n",
    "#         raise ItemNotInList(\"idx not in {struct}\".format(struct=self.__class__.__name__))        \n",
    "        \n",
    "\n",
    "        \n",
    "#     def get(self):\n",
    "#         self.check_items()\n",
    "#         last_val = self.items.pop()\n",
    "#         return last_val\n",
    "\n",
    "#     def peek(self):\n",
    "#         raise MethodNotAvailable"
   ]
  },
  {
   "cell_type": "code",
   "execution_count": 102,
   "metadata": {},
   "outputs": [
    {
     "data": {
      "text/plain": [
       "2"
      ]
     },
     "execution_count": 102,
     "metadata": {},
     "output_type": "execute_result"
    }
   ],
   "source": [
    "l = List()\n",
    "l.add(4)\n",
    "l.add(3)\n",
    "l.size()"
   ]
  },
  {
   "cell_type": "code",
   "execution_count": 105,
   "metadata": {},
   "outputs": [
    {
     "data": {
      "text/plain": [
       "2"
      ]
     },
     "execution_count": 105,
     "metadata": {},
     "output_type": "execute_result"
    }
   ],
   "source": [
    "n = Node(2)\n",
    "n.get_data()"
   ]
  },
  {
   "cell_type": "code",
   "execution_count": 83,
   "metadata": {},
   "outputs": [],
   "source": [
    "# first set next to old head\n",
    "# then set data equal to new data\n",
    "node2 = Node(4)\n",
    "node2.set_next(node)\n",
    "\n",
    "node3 = Node(5)\n",
    "node3.set_next(node2)"
   ]
  },
  {
   "cell_type": "code",
   "execution_count": 46,
   "metadata": {},
   "outputs": [],
   "source": [
    "# add another value to the node\n",
    "node.set_next(node.get_data())\n",
    "node.set_data(2)"
   ]
  },
  {
   "cell_type": "code",
   "execution_count": 82,
   "metadata": {},
   "outputs": [
    {
     "data": {
      "text/plain": [
       "1"
      ]
     },
     "execution_count": 82,
     "metadata": {},
     "output_type": "execute_result"
    }
   ],
   "source": []
  },
  {
   "cell_type": "code",
   "execution_count": 60,
   "metadata": {},
   "outputs": [
    {
     "data": {
      "text/plain": [
       "3"
      ]
     },
     "execution_count": 60,
     "metadata": {},
     "output_type": "execute_result"
    }
   ],
   "source": [
    "node.get_next()"
   ]
  },
  {
   "cell_type": "code",
   "execution_count": 61,
   "metadata": {
    "collapsed": true
   },
   "outputs": [],
   "source": [
    "head = Node(1)"
   ]
  },
  {
   "cell_type": "code",
   "execution_count": null,
   "metadata": {
    "collapsed": true
   },
   "outputs": [],
   "source": [
    "head"
   ]
  }
 ],
 "metadata": {
  "kernelspec": {
   "display_name": "Python 3",
   "language": "python",
   "name": "python3"
  },
  "language_info": {
   "codemirror_mode": {
    "name": "ipython",
    "version": 3
   },
   "file_extension": ".py",
   "mimetype": "text/x-python",
   "name": "python",
   "nbconvert_exporter": "python",
   "pygments_lexer": "ipython3",
   "version": "3.6.1"
  }
 },
 "nbformat": 4,
 "nbformat_minor": 2
}
